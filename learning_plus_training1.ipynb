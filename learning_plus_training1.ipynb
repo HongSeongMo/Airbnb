{
  "nbformat": 4,
  "nbformat_minor": 0,
  "metadata": {
    "colab": {
      "provenance": [],
      "mount_file_id": "16hrNBB8Ph7REs3nTN-Y5K51eUPeygSk-",
      "authorship_tag": "ABX9TyOKPDGRTunK3xhxfS/Bjs8q",
      "include_colab_link": true
    },
    "kernelspec": {
      "name": "python3",
      "display_name": "Python 3"
    },
    "language_info": {
      "name": "python"
    }
  },
  "cells": [
    {
      "cell_type": "markdown",
      "metadata": {
        "id": "view-in-github",
        "colab_type": "text"
      },
      "source": [
        "<a href=\"https://colab.research.google.com/github/HongSeongMo/Airbnb/blob/main/learning_plus_training1.ipynb\" target=\"_parent\"><img src=\"https://colab.research.google.com/assets/colab-badge.svg\" alt=\"Open In Colab\"/></a>"
      ]
    },
    {
      "cell_type": "code",
      "execution_count": null,
      "metadata": {
        "id": "aCibJOlHlypD"
      },
      "outputs": [],
      "source": [
        "import os\n",
        " #path 하위에 dir_name 디렉토리 생성\n",
        "def make_directory(path, dir_name):\n",
        "    if dir_name not in os.listdir(path):\n",
        "        os.mkdir(f'{path}/{dir_name}')"
      ]
    },
    {
      "cell_type": "code",
      "source": [
        "drive_path = 'drive/MyDrive'\n",
        "\n",
        "#letuin 디렉토리 생성\n",
        "make_directory(drive_path, 'letuin')\n",
        "\n"
      ],
      "metadata": {
        "id": "u_l2_EHznT8_"
      },
      "execution_count": null,
      "outputs": []
    }
  ]
}