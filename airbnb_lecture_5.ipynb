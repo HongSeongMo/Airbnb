{
  "nbformat": 4,
  "nbformat_minor": 0,
  "metadata": {
    "colab": {
      "provenance": [],
      "mount_file_id": "1Yl_L4Bxf47MV50gitXMUdMjx6yO9vjo4",
      "authorship_tag": "ABX9TyMQp2nZRCdWRAh8PwB6vb3R",
      "include_colab_link": true
    },
    "kernelspec": {
      "name": "python3",
      "display_name": "Python 3"
    },
    "language_info": {
      "name": "python"
    }
  },
  "cells": [
    {
      "cell_type": "markdown",
      "metadata": {
        "id": "view-in-github",
        "colab_type": "text"
      },
      "source": [
        "<a href=\"https://colab.research.google.com/github/HongSeongMo/Airbnb/blob/main/airbnb_lecture_5.ipynb\" target=\"_parent\"><img src=\"https://colab.research.google.com/assets/colab-badge.svg\" alt=\"Open In Colab\"/></a>"
      ]
    },
    {
      "cell_type": "markdown",
      "source": [
        "5강. 매출예측 모델 학습: 선형회귀와 의사결정 나무\n",
        "\n",
        "학습 데이터 읽기"
      ],
      "metadata": {
        "id": "mmNLwH-PdWTA"
      }
    },
    {
      "cell_type": "code",
      "execution_count": 1,
      "metadata": {
        "id": "SwqvkR9GdOAd"
      },
      "outputs": [],
      "source": [
        "import pandas as pd"
      ]
    },
    {
      "cell_type": "code",
      "source": [
        "path = 'drive/MyDrive/letuin/airbnb/data'\n",
        "\n",
        "x_train = pd.read_csv(f'{path}/x_train.csv')\n",
        "y_train = pd.read_csv(f'{path}/y_train.csv')"
      ],
      "metadata": {
        "id": "EdOREAJIdp2a"
      },
      "execution_count": 2,
      "outputs": []
    },
    {
      "cell_type": "markdown",
      "source": [
        "모델 학습"
      ],
      "metadata": {
        "id": "-U0ksw3Zd_Hy"
      }
    },
    {
      "cell_type": "code",
      "source": [
        "from sklearn.linear_model import LinearRegression\n",
        "from sklearn.tree import DecisionTreeRegressor"
      ],
      "metadata": {
        "id": "UpmVpK8Rd71U"
      },
      "execution_count": 3,
      "outputs": []
    },
    {
      "cell_type": "code",
      "source": [],
      "metadata": {
        "id": "ktiFrAeneQRw"
      },
      "execution_count": null,
      "outputs": []
    }
  ]
}